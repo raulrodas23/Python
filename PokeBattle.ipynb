{
 "cells": [
  {
   "cell_type": "code",
   "execution_count": 45,
   "id": "51843b7f",
   "metadata": {},
   "outputs": [
    {
     "name": "stdout",
     "output_type": "stream",
     "text": [
      "#### Bienvenido al Simulador de Batallas Pokémon ###\n",
      "Elijan a sus guerreros:\n",
      "- Bulbasaur\n",
      "- Ivysaur\n",
      "- Venusaur\n",
      "- Charmander\n",
      "- Charmeleon\n",
      "- Charizard\n",
      "- Squirtle\n",
      "- Wartortle\n",
      "- Blastoise\n",
      "- Caterpie\n",
      "- Metapod\n",
      "- Butterfree\n",
      "- Weedle\n",
      "- Kakuna\n",
      "- Beedrill\n",
      "- Pidgey\n",
      "- Pidgeotto\n",
      "- Pidgeot\n",
      "- Rattata\n",
      "- Raticate\n",
      "- Spearow\n",
      "- Fearow\n",
      "- Ekans\n",
      "- Arbok\n",
      "- Pikachu\n",
      "¡Raúl ha elegido a Charizard y Ash ketchum a Pikachu para la batalla! Que gane el mejor\n"
     ]
    }
   ],
   "source": [
    "import pandas as pd\n",
    "\n",
    "def cargar_pokemon(base_poke):\n",
    "    df = pd.read_csv(base_poke)\n",
    "    pokemon_data = {}\n",
    "    for index, row in df.iterrows():\n",
    "        nombre_pokemon = row['name'].lower()\n",
    "        pokemon_data[nombre_pokemon] = {\n",
    "            'HP': int(row['hp']),\n",
    "            'Attack': int(row['attack']),\n",
    "            'Defense': int(row['defense']),\n",
    "            'Type 1': row['type1'].lower(),\n",
    "            'Type 2': row['type2'].lower() if pd.notna(row['type2']) else None\n",
    "        }\n",
    "    return pokemon_data\n",
    "\n",
    "\n",
    "poke_file = 'pokemon.csv'\n",
    "todos_los_pokemon = cargar_pokemon(poke_file)\n",
    "\n",
    "print(\"#### Bienvenido al Simulador de Batallas Pokémon ###\")\n",
    "print(\"Elijan a sus guerreros:\")\n",
    "\n",
    "\n",
    "for i, nombre in enumerate(list(todos_los_pokemon.keys())[:25]):\n",
    "    print(f\"- {nombre.capitalize()}\")\n",
    "\n",
    "\n",
    "pokemon1_elegido = input(\"Raúl: Elegí tu Pokémon: \")\n",
    "pokemon2_elegido = input(\"Ash: Elegí tu Pokémon: \")\n",
    "\n",
    "print(f\"¡Raúl ha elegido a {pokemon1_elegido.capitalize()} y Ash ketchum a {pokemon2_elegido.capitalize()} para la batalla! Que gane el mejor\")"
   ]
  },
  {
   "cell_type": "code",
   "execution_count": 42,
   "id": "df97b22c",
   "metadata": {},
   "outputs": [],
   "source": [
    "#ESTA PARTE FUE FULL CHATGPT SOLO PARA PONER EL SOUNDTRACK :)\n",
    "\n",
    "\n",
    "import pygame\n",
    "import time\n",
    "\n",
    "def play_sound(file_path):\n",
    "    pygame.mixer.init()\n",
    "    pygame.mixer.music.load(file_path)\n",
    "    pygame.mixer.music.play()\n",
    "    \n",
    "    # Esperar a que termine la reproducción\n",
    "    while pygame.mixer.music.get_busy():\n",
    "        time.sleep(1)\n",
    "\n",
    "# Reemplaza con la ruta de tu archivo MP3\n",
    "play_sound(\"Battallla sound.mp3\")"
   ]
  },
  {
   "cell_type": "code",
   "execution_count": 32,
   "id": "cd0cd724",
   "metadata": {},
   "outputs": [
    {
     "name": "stdout",
     "output_type": "stream",
     "text": [
      "Collecting pygame\n",
      "  Downloading pygame-2.6.1-cp313-cp313-win_amd64.whl.metadata (13 kB)\n",
      "Downloading pygame-2.6.1-cp313-cp313-win_amd64.whl (10.6 MB)\n",
      "   ---------------------------------------- 0.0/10.6 MB ? eta -:--:--\n",
      "   ---------------------------------------- 0.0/10.6 MB ? eta -:--:--\n",
      "   ---------------------------------------- 0.0/10.6 MB ? eta -:--:--\n",
      "   -- ------------------------------------- 0.8/10.6 MB 3.9 MB/s eta 0:00:03\n",
      "   ------------- -------------------------- 3.7/10.6 MB 8.5 MB/s eta 0:00:01\n",
      "   -------------------------------- ------- 8.7/10.6 MB 13.7 MB/s eta 0:00:01\n",
      "   ---------------------------------------- 10.6/10.6 MB 14.2 MB/s eta 0:00:00\n",
      "Installing collected packages: pygame\n",
      "Successfully installed pygame-2.6.1\n",
      "Note: you may need to restart the kernel to use updated packages.\n"
     ]
    }
   ],
   "source": [
    "pip install pygame"
   ]
  }
 ],
 "metadata": {
  "kernelspec": {
   "display_name": "Python 3",
   "language": "python",
   "name": "python3"
  },
  "language_info": {
   "codemirror_mode": {
    "name": "ipython",
    "version": 3
   },
   "file_extension": ".py",
   "mimetype": "text/x-python",
   "name": "python",
   "nbconvert_exporter": "python",
   "pygments_lexer": "ipython3",
   "version": "3.13.3"
  }
 },
 "nbformat": 4,
 "nbformat_minor": 5
}
